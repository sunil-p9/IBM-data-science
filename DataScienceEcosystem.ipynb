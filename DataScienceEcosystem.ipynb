{
 "cells": [
  {
   "cell_type": "markdown",
   "id": "f9daeca5-879c-4281-b21e-3a4e169d2111",
   "metadata": {},
   "source": [
    "# Data Science Tools and Ecosystem"
   ]
  },
  {
   "cell_type": "markdown",
   "id": "98982a80-dba1-4f26-b026-b54254e2a256",
   "metadata": {},
   "source": [
    "In this notebook, Data Science Tools and Ecosystem are summarized."
   ]
  },
  {
   "cell_type": "markdown",
   "id": "c15cc56a-2a37-4fcc-8c6b-270a68803505",
   "metadata": {},
   "source": [
    "**Objectives:**\n",
    "List popular languages for Data Science.\n",
    "* Python\n",
    "* R\n",
    "* SQL\n",
    "* C++\n",
    "* Java\n",
    "* Javascript\n",
    "* Julia"
   ]
  },
  {
   "cell_type": "markdown",
   "id": "a647bf27-0068-418e-b3d4-c73de21652a0",
   "metadata": {},
   "source": [
    "Some of the popular languages that Data Scientists use are:\n",
    "1. Python \n",
    "2. Julia\n",
    "3. R\n",
    "4. SQL\n",
    "5. Scala\n",
    "6. JavaScript"
   ]
  },
  {
   "cell_type": "markdown",
   "id": "04511db0-328d-4091-831d-d85d29673042",
   "metadata": {},
   "source": [
    "Some of the commonly used libraries used by Data Scientists include:\n",
    "1. Pandas\n",
    "2. Numpy\n",
    "3. Matplotlib\n",
    "4. Scikit Learn\n",
    "5. Tensor Flow"
   ]
  },
  {
   "cell_type": "markdown",
   "id": "14f1212f-59ed-4f7e-8730-46be514fe9de",
   "metadata": {},
   "source": [
    "|Data Science Tools|\n",
    "|-|\n",
    "|R Studio|\n",
    "|Jupyter IDE|\n",
    "|Visual Studio Code|\n",
    "|Anaconde|\n",
    "|Spyder|"
   ]
  },
  {
   "cell_type": "markdown",
   "id": "040bd0b9-c1ce-4005-b73a-b4c6eff06d9f",
   "metadata": {},
   "source": [
    "### Below are a few examples of evaluating arithmetic expressions in Python."
   ]
  },
  {
   "cell_type": "code",
   "execution_count": 9,
   "id": "d5b79597-1260-480c-b2d8-f505e318e153",
   "metadata": {},
   "outputs": [
    {
     "name": "stdout",
     "output_type": "stream",
     "text": [
      "17\n"
     ]
    }
   ],
   "source": [
    "# This a simple arithmetic expression to mutiply then add integers.\n",
    "a = 3\n",
    "b = 4\n",
    "c = 5\n",
    "result = ((a*b)+c)\n",
    "print(result)"
   ]
  },
  {
   "cell_type": "code",
   "execution_count": 10,
   "id": "369dd24e-4748-449f-98b8-34434a2693fe",
   "metadata": {},
   "outputs": [
    {
     "name": "stdout",
     "output_type": "stream",
     "text": [
      "3.3333333333333335\n"
     ]
    }
   ],
   "source": [
    "# This will convert 200 minutes to hours by diving by 60.\n",
    "minutes = 200\n",
    "hour = minutes/60\n",
    "print(hour)"
   ]
  },
  {
   "cell_type": "markdown",
   "id": "d16f35df-1b17-47fd-9459-05108dc28f36",
   "metadata": {},
   "source": [
    "## Author\n",
    "name - Sunil Kumar Panda"
   ]
  },
  {
   "cell_type": "code",
   "execution_count": null,
   "id": "34c408bf-fb3f-4599-b219-1c5783a7a240",
   "metadata": {},
   "outputs": [],
   "source": []
  }
 ],
 "metadata": {
  "kernelspec": {
   "display_name": "Python [conda env:base] *",
   "language": "python",
   "name": "conda-base-py"
  },
  "language_info": {
   "codemirror_mode": {
    "name": "ipython",
    "version": 3
   },
   "file_extension": ".py",
   "mimetype": "text/x-python",
   "name": "python",
   "nbconvert_exporter": "python",
   "pygments_lexer": "ipython3",
   "version": "3.12.7"
  }
 },
 "nbformat": 4,
 "nbformat_minor": 5
}
